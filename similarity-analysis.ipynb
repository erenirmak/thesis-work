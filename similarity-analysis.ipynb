{
 "cells": [
  {
   "cell_type": "markdown",
   "id": "73c83fdd",
   "metadata": {},
   "source": [
    "# Connect to Local SQL Server Database\n",
    "This section demonstrates how to connect to your local SQL Server database using Python."
   ]
  },
  {
   "cell_type": "code",
   "execution_count": 1,
   "id": "48607cf1",
   "metadata": {},
   "outputs": [],
   "source": [
    "import pandas as pd\n",
    "import numpy as np\n",
    "from sqlalchemy import create_engine, inspect\n",
    "import json\n",
    "import ast\n",
    "import matplotlib.pyplot as plt"
   ]
  },
  {
   "cell_type": "code",
   "execution_count": 2,
   "id": "e6aa6c20",
   "metadata": {},
   "outputs": [],
   "source": [
    "# Safely parse the similarity_metrics column, handling both single and double quotes\n",
    "def safe_json_loads(val):\n",
    "    try:\n",
    "        return json.loads(val)\n",
    "    except json.JSONDecodeError:\n",
    "        try:\n",
    "            return ast.literal_eval(val)\n",
    "        except Exception:\n",
    "            return {}"
   ]
  },
  {
   "cell_type": "code",
   "execution_count": 3,
   "id": "b6e83773",
   "metadata": {},
   "outputs": [],
   "source": [
    "# Filtering function\n",
    "def filter_function(example):\n",
    "    return example['structurized_answer_start_index'] != -1"
   ]
  },
  {
   "cell_type": "markdown",
   "id": "fc46dba6",
   "metadata": {},
   "source": [
    "## Retrieve Data"
   ]
  },
  {
   "cell_type": "code",
   "execution_count": 4,
   "id": "60f1a114",
   "metadata": {},
   "outputs": [],
   "source": [
    "# Connection parameters\n",
    "server = '192.168.0.102' # VPN: '10.0.0.2'\n",
    "database = 'Thesis'\n",
    "username = 'sa'\n",
    "password = 'e1r2e3n4'"
   ]
  },
  {
   "cell_type": "code",
   "execution_count": 5,
   "id": "8c76e128",
   "metadata": {},
   "outputs": [],
   "source": [
    "# Create SQLAlchemy engine for SQL Server using pymssql\n",
    "engine = create_engine(f\"mssql+pymssql://{username}:{password}@{server}:1433/{database}\")"
   ]
  },
  {
   "cell_type": "code",
   "execution_count": 6,
   "id": "b5f190b7",
   "metadata": {},
   "outputs": [
    {
     "name": "stdout",
     "output_type": "stream",
     "text": [
      "Tables found:\n",
      "squad_structured_train\n",
      "squad_structured_validation\n",
      "temp_train_metrics_update\n",
      "temp_validation_metrics_update\n",
      "train_answer_predictions\n",
      "unique_squad_train_context\n",
      "unique_squad_validation_context\n",
      "validation_answer_predictions\n"
     ]
    }
   ],
   "source": [
    "# Use SQLAlchemy's inspect to get all table names\n",
    "inspector = inspect(engine)\n",
    "table_names = inspector.get_table_names()\n",
    "print('Tables found:\\n', \"\\n\".join(table_names), sep=\"\")"
   ]
  },
  {
   "cell_type": "code",
   "execution_count": 7,
   "id": "17d5896b",
   "metadata": {},
   "outputs": [
    {
     "name": "stdout",
     "output_type": "stream",
     "text": [
      "Loaded squad_structured_train into DataFrame with 87599 rows.\n",
      "Loaded squad_structured_validation into DataFrame with 10570 rows.\n"
     ]
    }
   ],
   "source": [
    "# Retrieve data from all tables into separate DataFrames\n",
    "dataframes = {}\n",
    "for table in table_names:\n",
    "    if \"structured\" in table:\n",
    "        try:\n",
    "            df = pd.read_sql(f'SELECT * FROM {table}', engine)\n",
    "            dataframes[table] = df\n",
    "            print(f\"Loaded {table} into DataFrame with {len(df)} rows.\")\n",
    "        except Exception as e:\n",
    "            print(f\"Failed to load {table}: {e}\")"
   ]
  },
  {
   "cell_type": "markdown",
   "id": "ae6154e1",
   "metadata": {},
   "source": [
    "## Train Set"
   ]
  },
  {
   "cell_type": "code",
   "execution_count": 8,
   "id": "6d0d9675",
   "metadata": {},
   "outputs": [],
   "source": [
    "df_st_all = dataframes[\"squad_structured_train\"]"
   ]
  },
  {
   "cell_type": "code",
   "execution_count": 9,
   "id": "020c1a2b",
   "metadata": {},
   "outputs": [
    {
     "data": {
      "text/plain": [
       "Index(['squad_id', 'title', 'context', 'structurized_context', 'question',\n",
       "       'answer_text', 'answer_start_index', 'structurized_answer_start_index',\n",
       "       'similarity_metrics'],\n",
       "      dtype='object')"
      ]
     },
     "execution_count": 9,
     "metadata": {},
     "output_type": "execute_result"
    }
   ],
   "source": [
    "df_st_all.columns"
   ]
  },
  {
   "cell_type": "code",
   "execution_count": 10,
   "id": "d7617280",
   "metadata": {},
   "outputs": [],
   "source": [
    "df_st_filtered = df_st_all[df_st_all[\"structurized_answer_start_index\"] != -1]"
   ]
  },
  {
   "cell_type": "code",
   "execution_count": 11,
   "id": "0928fe5c",
   "metadata": {},
   "outputs": [
    {
     "name": "stdout",
     "output_type": "stream",
     "text": [
      "squad_id                           87599\n",
      "title                              87599\n",
      "context                            87599\n",
      "structurized_context               87599\n",
      "question                           87599\n",
      "answer_text                        87599\n",
      "answer_start_index                 87599\n",
      "structurized_answer_start_index    87599\n",
      "similarity_metrics                 87599\n",
      "dtype: int64\n",
      "squad_id                           67700\n",
      "title                              67700\n",
      "context                            67700\n",
      "structurized_context               67700\n",
      "question                           67700\n",
      "answer_text                        67700\n",
      "answer_start_index                 67700\n",
      "structurized_answer_start_index    67700\n",
      "similarity_metrics                 67700\n",
      "dtype: int64\n"
     ]
    }
   ],
   "source": [
    "print(df_st_all.count())\n",
    "print(df_st_filtered.count())"
   ]
  },
  {
   "cell_type": "code",
   "execution_count": 12,
   "id": "2e6f5d5b",
   "metadata": {},
   "outputs": [],
   "source": [
    "df_st_all = df_st_all.drop(columns=[\"structurized_context\", \"question\", \"answer_text\", \"answer_start_index\", \"structurized_answer_start_index\"])\n",
    "df_st_filtered = df_st_filtered.drop(columns=[\"structurized_context\", \"question\", \"answer_text\", \"answer_start_index\", \"structurized_answer_start_index\"])"
   ]
  },
  {
   "cell_type": "code",
   "execution_count": 13,
   "id": "f4c9f796",
   "metadata": {},
   "outputs": [
    {
     "name": "stdout",
     "output_type": "stream",
     "text": [
      "Index(['squad_id', 'title', 'context', 'similarity_metrics'], dtype='object')\n",
      "Index(['squad_id', 'title', 'context', 'similarity_metrics'], dtype='object')\n"
     ]
    }
   ],
   "source": [
    "print(df_st_all.columns)\n",
    "print(df_st_filtered.columns)"
   ]
  },
  {
   "cell_type": "code",
   "execution_count": 14,
   "id": "75fcb360",
   "metadata": {},
   "outputs": [
    {
     "data": {
      "text/html": [
       "<div>\n",
       "<style scoped>\n",
       "    .dataframe tbody tr th:only-of-type {\n",
       "        vertical-align: middle;\n",
       "    }\n",
       "\n",
       "    .dataframe tbody tr th {\n",
       "        vertical-align: top;\n",
       "    }\n",
       "\n",
       "    .dataframe thead th {\n",
       "        text-align: right;\n",
       "    }\n",
       "</style>\n",
       "<table border=\"1\" class=\"dataframe\">\n",
       "  <thead>\n",
       "    <tr style=\"text-align: right;\">\n",
       "      <th></th>\n",
       "      <th>squad_id</th>\n",
       "      <th>title</th>\n",
       "      <th>context</th>\n",
       "      <th>similarity_metrics</th>\n",
       "    </tr>\n",
       "  </thead>\n",
       "  <tbody>\n",
       "    <tr>\n",
       "      <th>0</th>\n",
       "      <td>56be85543aeaaa14008c9063</td>\n",
       "      <td>Beyoncé</td>\n",
       "      <td>Beyoncé Giselle Knowles-Carter (/bi:'j?nseI/ b...</td>\n",
       "      <td>{'colbert': [0.8973691463470459], 'sparse': [2...</td>\n",
       "    </tr>\n",
       "    <tr>\n",
       "      <th>1</th>\n",
       "      <td>56be86cf3aeaaa14008c9076</td>\n",
       "      <td>Beyoncé</td>\n",
       "      <td>Following the disbandment of Destiny's Child i...</td>\n",
       "      <td>{'colbert': [0.9272266030311584], 'sparse': [2...</td>\n",
       "    </tr>\n",
       "    <tr>\n",
       "      <th>2</th>\n",
       "      <td>56be88473aeaaa14008c9080</td>\n",
       "      <td>Beyoncé</td>\n",
       "      <td>A self-described \"modern-day feminist\", Beyonc...</td>\n",
       "      <td>{'colbert': [0.9256731271743774], 'sparse': [2...</td>\n",
       "    </tr>\n",
       "    <tr>\n",
       "      <th>3</th>\n",
       "      <td>56be892d3aeaaa14008c908b</td>\n",
       "      <td>Beyoncé</td>\n",
       "      <td>Beyoncé Giselle Knowles was born in Houston, T...</td>\n",
       "      <td>{'colbert': [0.9348885416984558], 'sparse': [2...</td>\n",
       "    </tr>\n",
       "    <tr>\n",
       "      <th>4</th>\n",
       "      <td>56be8a583aeaaa14008c9094</td>\n",
       "      <td>Beyoncé</td>\n",
       "      <td>Beyoncé attended St. Mary's Elementary School ...</td>\n",
       "      <td>{'colbert': [0.925513505935669], 'sparse': [1....</td>\n",
       "    </tr>\n",
       "    <tr>\n",
       "      <th>...</th>\n",
       "      <td>...</td>\n",
       "      <td>...</td>\n",
       "      <td>...</td>\n",
       "      <td>...</td>\n",
       "    </tr>\n",
       "    <tr>\n",
       "      <th>18376</th>\n",
       "      <td>5735d07d012e2f140011a087</td>\n",
       "      <td>Kathmandu</td>\n",
       "      <td>Football and Cricket are the most popular spor...</td>\n",
       "      <td>{'colbert': [0.9161341190338135], 'sparse': [1...</td>\n",
       "    </tr>\n",
       "    <tr>\n",
       "      <th>18377</th>\n",
       "      <td>5735d0f46c16ec1900b92823</td>\n",
       "      <td>Kathmandu</td>\n",
       "      <td>The total length of roads in Nepal is recorded...</td>\n",
       "      <td>{'colbert': [0.8502343893051147], 'sparse': [1...</td>\n",
       "    </tr>\n",
       "    <tr>\n",
       "      <th>18378</th>\n",
       "      <td>5735d1a86c16ec1900b92831</td>\n",
       "      <td>Kathmandu</td>\n",
       "      <td>The main international airport serving Kathman...</td>\n",
       "      <td>{'colbert': [0.8344689607620239], 'sparse': [1...</td>\n",
       "    </tr>\n",
       "    <tr>\n",
       "      <th>18379</th>\n",
       "      <td>5735d259012e2f140011a09d</td>\n",
       "      <td>Kathmandu</td>\n",
       "      <td>Kathmandu Metropolitan City (KMC), in order to...</td>\n",
       "      <td>{'colbert': [0.8707681894302368], 'sparse': [1...</td>\n",
       "    </tr>\n",
       "    <tr>\n",
       "      <th>18380</th>\n",
       "      <td>573610e56c16ec1900b9295b</td>\n",
       "      <td>Hunting</td>\n",
       "      <td>Gun usage in hunting is typically regulated by...</td>\n",
       "      <td>{'colbert': [0.8909302949905396], 'sparse': [0...</td>\n",
       "    </tr>\n",
       "  </tbody>\n",
       "</table>\n",
       "<p>18381 rows × 4 columns</p>\n",
       "</div>"
      ],
      "text/plain": [
       "                       squad_id      title  \\\n",
       "0      56be85543aeaaa14008c9063    Beyoncé   \n",
       "1      56be86cf3aeaaa14008c9076    Beyoncé   \n",
       "2      56be88473aeaaa14008c9080    Beyoncé   \n",
       "3      56be892d3aeaaa14008c908b    Beyoncé   \n",
       "4      56be8a583aeaaa14008c9094    Beyoncé   \n",
       "...                         ...        ...   \n",
       "18376  5735d07d012e2f140011a087  Kathmandu   \n",
       "18377  5735d0f46c16ec1900b92823  Kathmandu   \n",
       "18378  5735d1a86c16ec1900b92831  Kathmandu   \n",
       "18379  5735d259012e2f140011a09d  Kathmandu   \n",
       "18380  573610e56c16ec1900b9295b    Hunting   \n",
       "\n",
       "                                                 context  \\\n",
       "0      Beyoncé Giselle Knowles-Carter (/bi:'j?nseI/ b...   \n",
       "1      Following the disbandment of Destiny's Child i...   \n",
       "2      A self-described \"modern-day feminist\", Beyonc...   \n",
       "3      Beyoncé Giselle Knowles was born in Houston, T...   \n",
       "4      Beyoncé attended St. Mary's Elementary School ...   \n",
       "...                                                  ...   \n",
       "18376  Football and Cricket are the most popular spor...   \n",
       "18377  The total length of roads in Nepal is recorded...   \n",
       "18378  The main international airport serving Kathman...   \n",
       "18379  Kathmandu Metropolitan City (KMC), in order to...   \n",
       "18380  Gun usage in hunting is typically regulated by...   \n",
       "\n",
       "                                      similarity_metrics  \n",
       "0      {'colbert': [0.8973691463470459], 'sparse': [2...  \n",
       "1      {'colbert': [0.9272266030311584], 'sparse': [2...  \n",
       "2      {'colbert': [0.9256731271743774], 'sparse': [2...  \n",
       "3      {'colbert': [0.9348885416984558], 'sparse': [2...  \n",
       "4      {'colbert': [0.925513505935669], 'sparse': [1....  \n",
       "...                                                  ...  \n",
       "18376  {'colbert': [0.9161341190338135], 'sparse': [1...  \n",
       "18377  {'colbert': [0.8502343893051147], 'sparse': [1...  \n",
       "18378  {'colbert': [0.8344689607620239], 'sparse': [1...  \n",
       "18379  {'colbert': [0.8707681894302368], 'sparse': [1...  \n",
       "18380  {'colbert': [0.8909302949905396], 'sparse': [0...  \n",
       "\n",
       "[18381 rows x 4 columns]"
      ]
     },
     "execution_count": 14,
     "metadata": {},
     "output_type": "execute_result"
    }
   ],
   "source": [
    "# Show DataFrame grouped by 'context' with unique rows\n",
    "df_st_all_unique = df_st_all.drop_duplicates(subset=['context'])\n",
    "df_st_all_unique = df_st_all_unique.reset_index(drop=True)\n",
    "df_st_filtered_unique = df_st_filtered.drop_duplicates(subset=['context'])\n",
    "df_st_filtered_unique = df_st_filtered_unique.reset_index(drop=True)\n",
    "df_st_filtered_unique"
   ]
  },
  {
   "cell_type": "code",
   "execution_count": null,
   "id": "8bfadd7a",
   "metadata": {},
   "outputs": [],
   "source": [
    "# template to add similarity metrics\n",
    "# similarity_metrics_df = unique_df[\"similarity_metrics\"].apply(safe_json_loads).apply(pd.Series)\n",
    "# unique_df = pd.concat([unique_df, similarity_metrics_df], axis=1)"
   ]
  },
  {
   "cell_type": "code",
   "execution_count": 16,
   "id": "be5cb072",
   "metadata": {},
   "outputs": [],
   "source": [
    "df_st_all_unique_similarity_metrics = df_st_all_unique[\"similarity_metrics\"].apply(safe_json_loads).apply(pd.Series)\n",
    "df_st_all_unique = pd.concat([df_st_all_unique, df_st_all_unique_similarity_metrics], axis=1)\n",
    "\n",
    "df_st_filtered_unique_similarity_metrics = df_st_filtered_unique[\"similarity_metrics\"].apply(safe_json_loads).apply(pd.Series)\n",
    "df_st_filtered_unique = pd.concat([df_st_filtered_unique, df_st_filtered_unique_similarity_metrics], axis=1)"
   ]
  },
  {
   "cell_type": "code",
   "execution_count": 17,
   "id": "1602e4f3",
   "metadata": {},
   "outputs": [
    {
     "name": "stdout",
     "output_type": "stream",
     "text": [
      "squad_id                18891\n",
      "title                   18891\n",
      "context                 18891\n",
      "similarity_metrics      18891\n",
      "colbert                 18891\n",
      "sparse                  18891\n",
      "dense                   18891\n",
      "sparse+dense            18891\n",
      "colbert+sparse+dense    18891\n",
      "dtype: int64\n",
      "squad_id                18381\n",
      "title                   18381\n",
      "context                 18381\n",
      "similarity_metrics      18381\n",
      "colbert                 18381\n",
      "sparse                  18381\n",
      "dense                   18381\n",
      "sparse+dense            18381\n",
      "colbert+sparse+dense    18381\n",
      "dtype: int64\n"
     ]
    }
   ],
   "source": [
    "print(df_st_all_unique.count())\n",
    "print(df_st_filtered_unique.count())"
   ]
  },
  {
   "cell_type": "code",
   "execution_count": 45,
   "id": "f7c2428b",
   "metadata": {},
   "outputs": [],
   "source": [
    "# # If any of the similarity_metrics columns are lists, extract the first element\n",
    "# for col in similarity_metrics_df.columns:\n",
    "#     if similarity_metrics_df[col].apply(lambda x: isinstance(x, list)).any():\n",
    "#         similarity_metrics_df[col] = similarity_metrics_df[col].apply(lambda x: x[0] if isinstance(x, list) and len(x) > 0 else x)\n",
    "\n",
    "# # Update unique_df with the processed columns\n",
    "# unique_df = pd.concat([unique_df.drop(columns=similarity_metrics_df.columns, errors='ignore'), similarity_metrics_df], axis=1)\n",
    "# unique_df"
   ]
  },
  {
   "cell_type": "code",
   "execution_count": 18,
   "id": "5fad7248",
   "metadata": {},
   "outputs": [
    {
     "data": {
      "text/html": [
       "<div>\n",
       "<style scoped>\n",
       "    .dataframe tbody tr th:only-of-type {\n",
       "        vertical-align: middle;\n",
       "    }\n",
       "\n",
       "    .dataframe tbody tr th {\n",
       "        vertical-align: top;\n",
       "    }\n",
       "\n",
       "    .dataframe thead th {\n",
       "        text-align: right;\n",
       "    }\n",
       "</style>\n",
       "<table border=\"1\" class=\"dataframe\">\n",
       "  <thead>\n",
       "    <tr style=\"text-align: right;\">\n",
       "      <th></th>\n",
       "      <th>squad_id</th>\n",
       "      <th>title</th>\n",
       "      <th>context</th>\n",
       "      <th>similarity_metrics</th>\n",
       "      <th>colbert</th>\n",
       "      <th>sparse</th>\n",
       "      <th>dense</th>\n",
       "      <th>sparse+dense</th>\n",
       "      <th>colbert+sparse+dense</th>\n",
       "    </tr>\n",
       "  </thead>\n",
       "  <tbody>\n",
       "    <tr>\n",
       "      <th>0</th>\n",
       "      <td>56be85543aeaaa14008c9063</td>\n",
       "      <td>Beyoncé</td>\n",
       "      <td>Beyoncé Giselle Knowles-Carter (/bi:'j?nseI/ b...</td>\n",
       "      <td>{'colbert': [0.8973691463470459], 'sparse': [2...</td>\n",
       "      <td>0.897369</td>\n",
       "      <td>2.332031</td>\n",
       "      <td>0.919922</td>\n",
       "      <td>1.625977</td>\n",
       "      <td>1.383108</td>\n",
       "    </tr>\n",
       "    <tr>\n",
       "      <th>1</th>\n",
       "      <td>56be86cf3aeaaa14008c9076</td>\n",
       "      <td>Beyoncé</td>\n",
       "      <td>Following the disbandment of Destiny's Child i...</td>\n",
       "      <td>{'colbert': [0.9272266030311584], 'sparse': [2...</td>\n",
       "      <td>0.927227</td>\n",
       "      <td>2.279297</td>\n",
       "      <td>0.932129</td>\n",
       "      <td>1.605713</td>\n",
       "      <td>1.379551</td>\n",
       "    </tr>\n",
       "    <tr>\n",
       "      <th>2</th>\n",
       "      <td>56be88473aeaaa14008c9080</td>\n",
       "      <td>Beyoncé</td>\n",
       "      <td>A self-described \"modern-day feminist\", Beyonc...</td>\n",
       "      <td>{'colbert': [0.9256731271743774], 'sparse': [2...</td>\n",
       "      <td>0.925673</td>\n",
       "      <td>2.408203</td>\n",
       "      <td>0.930176</td>\n",
       "      <td>1.669189</td>\n",
       "      <td>1.421351</td>\n",
       "    </tr>\n",
       "    <tr>\n",
       "      <th>3</th>\n",
       "      <td>56be892d3aeaaa14008c908b</td>\n",
       "      <td>Beyoncé</td>\n",
       "      <td>Beyoncé Giselle Knowles was born in Houston, T...</td>\n",
       "      <td>{'colbert': [0.9348885416984558], 'sparse': [2...</td>\n",
       "      <td>0.934889</td>\n",
       "      <td>2.060547</td>\n",
       "      <td>0.951660</td>\n",
       "      <td>1.506104</td>\n",
       "      <td>1.315699</td>\n",
       "    </tr>\n",
       "    <tr>\n",
       "      <th>4</th>\n",
       "      <td>56be8a583aeaaa14008c9094</td>\n",
       "      <td>Beyoncé</td>\n",
       "      <td>Beyoncé attended St. Mary's Elementary School ...</td>\n",
       "      <td>{'colbert': [0.925513505935669], 'sparse': [1....</td>\n",
       "      <td>0.925514</td>\n",
       "      <td>1.320312</td>\n",
       "      <td>0.931152</td>\n",
       "      <td>1.125732</td>\n",
       "      <td>1.058993</td>\n",
       "    </tr>\n",
       "    <tr>\n",
       "      <th>...</th>\n",
       "      <td>...</td>\n",
       "      <td>...</td>\n",
       "      <td>...</td>\n",
       "      <td>...</td>\n",
       "      <td>...</td>\n",
       "      <td>...</td>\n",
       "      <td>...</td>\n",
       "      <td>...</td>\n",
       "      <td>...</td>\n",
       "    </tr>\n",
       "    <tr>\n",
       "      <th>18886</th>\n",
       "      <td>5735d0026c16ec1900b92815</td>\n",
       "      <td>Kathmandu</td>\n",
       "      <td>Institute of Medicine, the central college of ...</td>\n",
       "      <td>{'colbert': [0.87876957654953], 'sparse': [1.0...</td>\n",
       "      <td>0.878770</td>\n",
       "      <td>1.053711</td>\n",
       "      <td>0.934082</td>\n",
       "      <td>0.993896</td>\n",
       "      <td>0.955521</td>\n",
       "    </tr>\n",
       "    <tr>\n",
       "      <th>18887</th>\n",
       "      <td>5735d07d012e2f140011a087</td>\n",
       "      <td>Kathmandu</td>\n",
       "      <td>Football and Cricket are the most popular spor...</td>\n",
       "      <td>{'colbert': [0.9161341190338135], 'sparse': [1...</td>\n",
       "      <td>0.916134</td>\n",
       "      <td>1.866211</td>\n",
       "      <td>0.936035</td>\n",
       "      <td>1.401123</td>\n",
       "      <td>1.239460</td>\n",
       "    </tr>\n",
       "    <tr>\n",
       "      <th>18888</th>\n",
       "      <td>5735d0f46c16ec1900b92823</td>\n",
       "      <td>Kathmandu</td>\n",
       "      <td>The total length of roads in Nepal is recorded...</td>\n",
       "      <td>{'colbert': [0.8502343893051147], 'sparse': [1...</td>\n",
       "      <td>0.850234</td>\n",
       "      <td>1.167969</td>\n",
       "      <td>0.884277</td>\n",
       "      <td>1.026123</td>\n",
       "      <td>0.967494</td>\n",
       "    </tr>\n",
       "    <tr>\n",
       "      <th>18889</th>\n",
       "      <td>5735d1a86c16ec1900b92831</td>\n",
       "      <td>Kathmandu</td>\n",
       "      <td>The main international airport serving Kathman...</td>\n",
       "      <td>{'colbert': [0.8344689607620239], 'sparse': [1...</td>\n",
       "      <td>0.834469</td>\n",
       "      <td>1.852539</td>\n",
       "      <td>0.873535</td>\n",
       "      <td>1.363037</td>\n",
       "      <td>1.186848</td>\n",
       "    </tr>\n",
       "    <tr>\n",
       "      <th>18890</th>\n",
       "      <td>5735d259012e2f140011a09d</td>\n",
       "      <td>Kathmandu</td>\n",
       "      <td>Kathmandu Metropolitan City (KMC), in order to...</td>\n",
       "      <td>{'colbert': [0.8707681894302368], 'sparse': [1...</td>\n",
       "      <td>0.870768</td>\n",
       "      <td>1.117188</td>\n",
       "      <td>0.900879</td>\n",
       "      <td>1.009033</td>\n",
       "      <td>0.962945</td>\n",
       "    </tr>\n",
       "  </tbody>\n",
       "</table>\n",
       "<p>18891 rows × 9 columns</p>\n",
       "</div>"
      ],
      "text/plain": [
       "                       squad_id      title  \\\n",
       "0      56be85543aeaaa14008c9063    Beyoncé   \n",
       "1      56be86cf3aeaaa14008c9076    Beyoncé   \n",
       "2      56be88473aeaaa14008c9080    Beyoncé   \n",
       "3      56be892d3aeaaa14008c908b    Beyoncé   \n",
       "4      56be8a583aeaaa14008c9094    Beyoncé   \n",
       "...                         ...        ...   \n",
       "18886  5735d0026c16ec1900b92815  Kathmandu   \n",
       "18887  5735d07d012e2f140011a087  Kathmandu   \n",
       "18888  5735d0f46c16ec1900b92823  Kathmandu   \n",
       "18889  5735d1a86c16ec1900b92831  Kathmandu   \n",
       "18890  5735d259012e2f140011a09d  Kathmandu   \n",
       "\n",
       "                                                 context  \\\n",
       "0      Beyoncé Giselle Knowles-Carter (/bi:'j?nseI/ b...   \n",
       "1      Following the disbandment of Destiny's Child i...   \n",
       "2      A self-described \"modern-day feminist\", Beyonc...   \n",
       "3      Beyoncé Giselle Knowles was born in Houston, T...   \n",
       "4      Beyoncé attended St. Mary's Elementary School ...   \n",
       "...                                                  ...   \n",
       "18886  Institute of Medicine, the central college of ...   \n",
       "18887  Football and Cricket are the most popular spor...   \n",
       "18888  The total length of roads in Nepal is recorded...   \n",
       "18889  The main international airport serving Kathman...   \n",
       "18890  Kathmandu Metropolitan City (KMC), in order to...   \n",
       "\n",
       "                                      similarity_metrics   colbert    sparse  \\\n",
       "0      {'colbert': [0.8973691463470459], 'sparse': [2...  0.897369  2.332031   \n",
       "1      {'colbert': [0.9272266030311584], 'sparse': [2...  0.927227  2.279297   \n",
       "2      {'colbert': [0.9256731271743774], 'sparse': [2...  0.925673  2.408203   \n",
       "3      {'colbert': [0.9348885416984558], 'sparse': [2...  0.934889  2.060547   \n",
       "4      {'colbert': [0.925513505935669], 'sparse': [1....  0.925514  1.320312   \n",
       "...                                                  ...       ...       ...   \n",
       "18886  {'colbert': [0.87876957654953], 'sparse': [1.0...  0.878770  1.053711   \n",
       "18887  {'colbert': [0.9161341190338135], 'sparse': [1...  0.916134  1.866211   \n",
       "18888  {'colbert': [0.8502343893051147], 'sparse': [1...  0.850234  1.167969   \n",
       "18889  {'colbert': [0.8344689607620239], 'sparse': [1...  0.834469  1.852539   \n",
       "18890  {'colbert': [0.8707681894302368], 'sparse': [1...  0.870768  1.117188   \n",
       "\n",
       "          dense  sparse+dense  colbert+sparse+dense  \n",
       "0      0.919922      1.625977              1.383108  \n",
       "1      0.932129      1.605713              1.379551  \n",
       "2      0.930176      1.669189              1.421351  \n",
       "3      0.951660      1.506104              1.315699  \n",
       "4      0.931152      1.125732              1.058993  \n",
       "...         ...           ...                   ...  \n",
       "18886  0.934082      0.993896              0.955521  \n",
       "18887  0.936035      1.401123              1.239460  \n",
       "18888  0.884277      1.026123              0.967494  \n",
       "18889  0.873535      1.363037              1.186848  \n",
       "18890  0.900879      1.009033              0.962945  \n",
       "\n",
       "[18891 rows x 9 columns]"
      ]
     },
     "execution_count": 18,
     "metadata": {},
     "output_type": "execute_result"
    }
   ],
   "source": [
    "# If any of the similarity_metrics columns are lists, extract the first element\n",
    "for col in df_st_all_unique_similarity_metrics.columns:\n",
    "    if df_st_all_unique_similarity_metrics[col].apply(lambda x: isinstance(x, list)).any():\n",
    "        df_st_all_unique_similarity_metrics[col] = df_st_all_unique_similarity_metrics[col].apply(lambda x: x[0] if isinstance(x, list) and len(x) > 0 else x)\n",
    "\n",
    "# Update unique_df with the processed columns\n",
    "df_st_all_unique = pd.concat([df_st_all_unique.drop(columns=df_st_all_unique_similarity_metrics.columns, errors='ignore'), df_st_all_unique_similarity_metrics], axis=1)\n",
    "df_st_all_unique"
   ]
  },
  {
   "cell_type": "code",
   "execution_count": 19,
   "id": "e2950266",
   "metadata": {},
   "outputs": [
    {
     "data": {
      "text/html": [
       "<div>\n",
       "<style scoped>\n",
       "    .dataframe tbody tr th:only-of-type {\n",
       "        vertical-align: middle;\n",
       "    }\n",
       "\n",
       "    .dataframe tbody tr th {\n",
       "        vertical-align: top;\n",
       "    }\n",
       "\n",
       "    .dataframe thead th {\n",
       "        text-align: right;\n",
       "    }\n",
       "</style>\n",
       "<table border=\"1\" class=\"dataframe\">\n",
       "  <thead>\n",
       "    <tr style=\"text-align: right;\">\n",
       "      <th></th>\n",
       "      <th>squad_id</th>\n",
       "      <th>title</th>\n",
       "      <th>context</th>\n",
       "      <th>similarity_metrics</th>\n",
       "      <th>colbert</th>\n",
       "      <th>sparse</th>\n",
       "      <th>dense</th>\n",
       "      <th>sparse+dense</th>\n",
       "      <th>colbert+sparse+dense</th>\n",
       "    </tr>\n",
       "  </thead>\n",
       "  <tbody>\n",
       "    <tr>\n",
       "      <th>0</th>\n",
       "      <td>56be85543aeaaa14008c9063</td>\n",
       "      <td>Beyoncé</td>\n",
       "      <td>Beyoncé Giselle Knowles-Carter (/bi:'j?nseI/ b...</td>\n",
       "      <td>{'colbert': [0.8973691463470459], 'sparse': [2...</td>\n",
       "      <td>0.897369</td>\n",
       "      <td>2.332031</td>\n",
       "      <td>0.919922</td>\n",
       "      <td>1.625977</td>\n",
       "      <td>1.383108</td>\n",
       "    </tr>\n",
       "    <tr>\n",
       "      <th>1</th>\n",
       "      <td>56be86cf3aeaaa14008c9076</td>\n",
       "      <td>Beyoncé</td>\n",
       "      <td>Following the disbandment of Destiny's Child i...</td>\n",
       "      <td>{'colbert': [0.9272266030311584], 'sparse': [2...</td>\n",
       "      <td>0.927227</td>\n",
       "      <td>2.279297</td>\n",
       "      <td>0.932129</td>\n",
       "      <td>1.605713</td>\n",
       "      <td>1.379551</td>\n",
       "    </tr>\n",
       "    <tr>\n",
       "      <th>2</th>\n",
       "      <td>56be88473aeaaa14008c9080</td>\n",
       "      <td>Beyoncé</td>\n",
       "      <td>A self-described \"modern-day feminist\", Beyonc...</td>\n",
       "      <td>{'colbert': [0.9256731271743774], 'sparse': [2...</td>\n",
       "      <td>0.925673</td>\n",
       "      <td>2.408203</td>\n",
       "      <td>0.930176</td>\n",
       "      <td>1.669189</td>\n",
       "      <td>1.421351</td>\n",
       "    </tr>\n",
       "    <tr>\n",
       "      <th>3</th>\n",
       "      <td>56be892d3aeaaa14008c908b</td>\n",
       "      <td>Beyoncé</td>\n",
       "      <td>Beyoncé Giselle Knowles was born in Houston, T...</td>\n",
       "      <td>{'colbert': [0.9348885416984558], 'sparse': [2...</td>\n",
       "      <td>0.934889</td>\n",
       "      <td>2.060547</td>\n",
       "      <td>0.951660</td>\n",
       "      <td>1.506104</td>\n",
       "      <td>1.315699</td>\n",
       "    </tr>\n",
       "    <tr>\n",
       "      <th>4</th>\n",
       "      <td>56be8a583aeaaa14008c9094</td>\n",
       "      <td>Beyoncé</td>\n",
       "      <td>Beyoncé attended St. Mary's Elementary School ...</td>\n",
       "      <td>{'colbert': [0.925513505935669], 'sparse': [1....</td>\n",
       "      <td>0.925514</td>\n",
       "      <td>1.320312</td>\n",
       "      <td>0.931152</td>\n",
       "      <td>1.125732</td>\n",
       "      <td>1.058993</td>\n",
       "    </tr>\n",
       "    <tr>\n",
       "      <th>...</th>\n",
       "      <td>...</td>\n",
       "      <td>...</td>\n",
       "      <td>...</td>\n",
       "      <td>...</td>\n",
       "      <td>...</td>\n",
       "      <td>...</td>\n",
       "      <td>...</td>\n",
       "      <td>...</td>\n",
       "      <td>...</td>\n",
       "    </tr>\n",
       "    <tr>\n",
       "      <th>18376</th>\n",
       "      <td>5735d07d012e2f140011a087</td>\n",
       "      <td>Kathmandu</td>\n",
       "      <td>Football and Cricket are the most popular spor...</td>\n",
       "      <td>{'colbert': [0.9161341190338135], 'sparse': [1...</td>\n",
       "      <td>0.916134</td>\n",
       "      <td>1.866211</td>\n",
       "      <td>0.936035</td>\n",
       "      <td>1.401123</td>\n",
       "      <td>1.239460</td>\n",
       "    </tr>\n",
       "    <tr>\n",
       "      <th>18377</th>\n",
       "      <td>5735d0f46c16ec1900b92823</td>\n",
       "      <td>Kathmandu</td>\n",
       "      <td>The total length of roads in Nepal is recorded...</td>\n",
       "      <td>{'colbert': [0.8502343893051147], 'sparse': [1...</td>\n",
       "      <td>0.850234</td>\n",
       "      <td>1.167969</td>\n",
       "      <td>0.884277</td>\n",
       "      <td>1.026123</td>\n",
       "      <td>0.967494</td>\n",
       "    </tr>\n",
       "    <tr>\n",
       "      <th>18378</th>\n",
       "      <td>5735d1a86c16ec1900b92831</td>\n",
       "      <td>Kathmandu</td>\n",
       "      <td>The main international airport serving Kathman...</td>\n",
       "      <td>{'colbert': [0.8344689607620239], 'sparse': [1...</td>\n",
       "      <td>0.834469</td>\n",
       "      <td>1.852539</td>\n",
       "      <td>0.873535</td>\n",
       "      <td>1.363037</td>\n",
       "      <td>1.186848</td>\n",
       "    </tr>\n",
       "    <tr>\n",
       "      <th>18379</th>\n",
       "      <td>5735d259012e2f140011a09d</td>\n",
       "      <td>Kathmandu</td>\n",
       "      <td>Kathmandu Metropolitan City (KMC), in order to...</td>\n",
       "      <td>{'colbert': [0.8707681894302368], 'sparse': [1...</td>\n",
       "      <td>0.870768</td>\n",
       "      <td>1.117188</td>\n",
       "      <td>0.900879</td>\n",
       "      <td>1.009033</td>\n",
       "      <td>0.962945</td>\n",
       "    </tr>\n",
       "    <tr>\n",
       "      <th>18380</th>\n",
       "      <td>573610e56c16ec1900b9295b</td>\n",
       "      <td>Hunting</td>\n",
       "      <td>Gun usage in hunting is typically regulated by...</td>\n",
       "      <td>{'colbert': [0.8909302949905396], 'sparse': [0...</td>\n",
       "      <td>0.890930</td>\n",
       "      <td>0.983887</td>\n",
       "      <td>0.897461</td>\n",
       "      <td>0.940674</td>\n",
       "      <td>0.924093</td>\n",
       "    </tr>\n",
       "  </tbody>\n",
       "</table>\n",
       "<p>18381 rows × 9 columns</p>\n",
       "</div>"
      ],
      "text/plain": [
       "                       squad_id      title  \\\n",
       "0      56be85543aeaaa14008c9063    Beyoncé   \n",
       "1      56be86cf3aeaaa14008c9076    Beyoncé   \n",
       "2      56be88473aeaaa14008c9080    Beyoncé   \n",
       "3      56be892d3aeaaa14008c908b    Beyoncé   \n",
       "4      56be8a583aeaaa14008c9094    Beyoncé   \n",
       "...                         ...        ...   \n",
       "18376  5735d07d012e2f140011a087  Kathmandu   \n",
       "18377  5735d0f46c16ec1900b92823  Kathmandu   \n",
       "18378  5735d1a86c16ec1900b92831  Kathmandu   \n",
       "18379  5735d259012e2f140011a09d  Kathmandu   \n",
       "18380  573610e56c16ec1900b9295b    Hunting   \n",
       "\n",
       "                                                 context  \\\n",
       "0      Beyoncé Giselle Knowles-Carter (/bi:'j?nseI/ b...   \n",
       "1      Following the disbandment of Destiny's Child i...   \n",
       "2      A self-described \"modern-day feminist\", Beyonc...   \n",
       "3      Beyoncé Giselle Knowles was born in Houston, T...   \n",
       "4      Beyoncé attended St. Mary's Elementary School ...   \n",
       "...                                                  ...   \n",
       "18376  Football and Cricket are the most popular spor...   \n",
       "18377  The total length of roads in Nepal is recorded...   \n",
       "18378  The main international airport serving Kathman...   \n",
       "18379  Kathmandu Metropolitan City (KMC), in order to...   \n",
       "18380  Gun usage in hunting is typically regulated by...   \n",
       "\n",
       "                                      similarity_metrics   colbert    sparse  \\\n",
       "0      {'colbert': [0.8973691463470459], 'sparse': [2...  0.897369  2.332031   \n",
       "1      {'colbert': [0.9272266030311584], 'sparse': [2...  0.927227  2.279297   \n",
       "2      {'colbert': [0.9256731271743774], 'sparse': [2...  0.925673  2.408203   \n",
       "3      {'colbert': [0.9348885416984558], 'sparse': [2...  0.934889  2.060547   \n",
       "4      {'colbert': [0.925513505935669], 'sparse': [1....  0.925514  1.320312   \n",
       "...                                                  ...       ...       ...   \n",
       "18376  {'colbert': [0.9161341190338135], 'sparse': [1...  0.916134  1.866211   \n",
       "18377  {'colbert': [0.8502343893051147], 'sparse': [1...  0.850234  1.167969   \n",
       "18378  {'colbert': [0.8344689607620239], 'sparse': [1...  0.834469  1.852539   \n",
       "18379  {'colbert': [0.8707681894302368], 'sparse': [1...  0.870768  1.117188   \n",
       "18380  {'colbert': [0.8909302949905396], 'sparse': [0...  0.890930  0.983887   \n",
       "\n",
       "          dense  sparse+dense  colbert+sparse+dense  \n",
       "0      0.919922      1.625977              1.383108  \n",
       "1      0.932129      1.605713              1.379551  \n",
       "2      0.930176      1.669189              1.421351  \n",
       "3      0.951660      1.506104              1.315699  \n",
       "4      0.931152      1.125732              1.058993  \n",
       "...         ...           ...                   ...  \n",
       "18376  0.936035      1.401123              1.239460  \n",
       "18377  0.884277      1.026123              0.967494  \n",
       "18378  0.873535      1.363037              1.186848  \n",
       "18379  0.900879      1.009033              0.962945  \n",
       "18380  0.897461      0.940674              0.924093  \n",
       "\n",
       "[18381 rows x 9 columns]"
      ]
     },
     "execution_count": 19,
     "metadata": {},
     "output_type": "execute_result"
    }
   ],
   "source": [
    "# If any of the similarity_metrics columns are lists, extract the first element\n",
    "for col in df_st_filtered_unique_similarity_metrics.columns:\n",
    "    if df_st_filtered_unique_similarity_metrics[col].apply(lambda x: isinstance(x, list)).any():\n",
    "        df_st_filtered_unique_similarity_metrics[col] = df_st_filtered_unique_similarity_metrics[col].apply(lambda x: x[0] if isinstance(x, list) and len(x) > 0 else x)\n",
    "\n",
    "# Update unique_df with the processed columns\n",
    "df_st_filtered_unique = pd.concat([df_st_filtered_unique.drop(columns=df_st_filtered_unique_similarity_metrics.columns, errors='ignore'), df_st_filtered_unique_similarity_metrics], axis=1)\n",
    "df_st_filtered_unique"
   ]
  },
  {
   "cell_type": "code",
   "execution_count": 21,
   "id": "d25d6ed3",
   "metadata": {},
   "outputs": [
    {
     "name": "stdout",
     "output_type": "stream",
     "text": [
      "0.1585693359375 1.1540552978449214 3.89453125\n"
     ]
    }
   ],
   "source": [
    "print(df_st_filtered_unique[\"sparse\"].min(), df_st_filtered_unique[\"sparse\"].mean(), df_st_filtered_unique[\"sparse\"].max())"
   ]
  },
  {
   "cell_type": "code",
   "execution_count": 49,
   "id": "1b646527",
   "metadata": {},
   "outputs": [
    {
     "name": "stdout",
     "output_type": "stream",
     "text": [
      "df unfiltered unique contexts similarity averages:  0.8751617661713733 1.1475337590732568 0.898172565226166\n",
      "df filtered unique contexts similarity averages:  0.8761057822471228 1.1540552978449214 0.8991282820915619\n"
     ]
    }
   ],
   "source": [
    "print(\"df unfiltered unique contexts similarity averages: \", df_st_all_unique[\"colbert\"].mean(), df_st_all_unique[\"sparse\"].mean(), df_st_all_unique[\"dense\"].mean())\n",
    "print(\"df filtered unique contexts similarity averages: \", df_st_filtered_unique[\"colbert\"].mean(), df_st_filtered_unique[\"sparse\"].mean(), df_st_filtered_unique[\"dense\"].mean())"
   ]
  },
  {
   "cell_type": "code",
   "execution_count": 50,
   "id": "e9497e05",
   "metadata": {},
   "outputs": [
    {
     "data": {
      "image/png": "[encoded data removed]",
      "text/plain": [
       "<Figure size 640x480 with 1 Axes>"
      ]
     },
     "metadata": {},
     "output_type": "display_data"
    }
   ],
   "source": [
    "plt.bar([\"ColBERT\", \"Sparse\", \"Dense\"], [df_st_all_unique[\"colbert\"].mean(), df_st_all_unique[\"sparse\"].mean(), df_st_all_unique[\"dense\"].mean()])\n",
    "plt.show()"
   ]
  },
  {
   "cell_type": "code",
   "execution_count": 51,
   "id": "ee1c2288",
   "metadata": {},
   "outputs": [
    {
     "data": {
      "image/png": "[encoded data removed]",
      "text/plain": [
       "<Figure size 640x480 with 1 Axes>"
      ]
     },
     "metadata": {},
     "output_type": "display_data"
    }
   ],
   "source": [
    "plt.bar([\"ColBERT\", \"Sparse\", \"Dense\"], [df_st_filtered_unique[\"colbert\"].mean(), df_st_filtered_unique[\"sparse\"].mean(), df_st_filtered_unique[\"dense\"].mean()])\n",
    "plt.show()"
   ]
  },
  {
   "cell_type": "markdown",
   "id": "79cb13b5",
   "metadata": {},
   "source": [
    "## Validation Set"
   ]
  },
  {
   "cell_type": "code",
   "execution_count": 56,
   "id": "85ff3e14",
   "metadata": {},
   "outputs": [],
   "source": [
    "df_st_val_all = dataframes[\"squad_structured_validation\"]"
   ]
  },
  {
   "cell_type": "code",
   "execution_count": 58,
   "id": "c203bf4f",
   "metadata": {},
   "outputs": [
    {
     "data": {
      "text/plain": [
       "Index(['squad_id', 'title', 'context', 'structurized_context', 'question',\n",
       "       'answer_text', 'answer_start_index', 'structurized_answer_start_index',\n",
       "       'similarity_metrics'],\n",
       "      dtype='object')"
      ]
     },
     "execution_count": 58,
     "metadata": {},
     "output_type": "execute_result"
    }
   ],
   "source": [
    "df_st_val_all.columns"
   ]
  },
  {
   "cell_type": "code",
   "execution_count": 75,
   "id": "9fad8bc0",
   "metadata": {},
   "outputs": [],
   "source": [
    "df_st_val_filtered = df_st_val_all[df_st_val_all[\"structurized_answer_start_index\"].notna()]"
   ]
  },
  {
   "cell_type": "code",
   "execution_count": 76,
   "id": "b19e5321",
   "metadata": {},
   "outputs": [
    {
     "name": "stdout",
     "output_type": "stream",
     "text": [
      "squad_id                           10570\n",
      "title                              10570\n",
      "context                            10570\n",
      "structurized_context               10570\n",
      "question                           10570\n",
      "answer_text                        10570\n",
      "answer_start_index                 10570\n",
      "structurized_answer_start_index     4832\n",
      "similarity_metrics                 10570\n",
      "dtype: int64\n",
      "squad_id                           4832\n",
      "title                              4832\n",
      "context                            4832\n",
      "structurized_context               4832\n",
      "question                           4832\n",
      "answer_text                        4832\n",
      "answer_start_index                 4832\n",
      "structurized_answer_start_index    4832\n",
      "similarity_metrics                 4832\n",
      "dtype: int64\n"
     ]
    }
   ],
   "source": [
    "print(df_st_val_all.count())\n",
    "print(df_st_val_filtered.count())"
   ]
  },
  {
   "cell_type": "code",
   "execution_count": 77,
   "id": "b0ea0975",
   "metadata": {},
   "outputs": [],
   "source": [
    "df_st_val_all = df_st_val_all.drop(columns=[\"structurized_context\", \"question\", \"answer_text\", \"answer_start_index\", \"structurized_answer_start_index\"])\n",
    "df_st_val_filtered = df_st_val_filtered.drop(columns=[\"structurized_context\", \"question\", \"answer_text\", \"answer_start_index\", \"structurized_answer_start_index\"])"
   ]
  },
  {
   "cell_type": "code",
   "execution_count": 78,
   "id": "8003da08",
   "metadata": {},
   "outputs": [],
   "source": [
    "df_st_val_all_unique = df_st_val_all.drop_duplicates(subset=['context'])\n",
    "df_st_val_all_unique = df_st_val_all_unique.reset_index(drop=True)\n",
    "\n",
    "df_st_val_filtered_unique = df_st_val_filtered.drop_duplicates(subset=['context'])\n",
    "df_st_val_filtered_unique = df_st_val_filtered_unique.reset_index(drop=True)"
   ]
  },
  {
   "cell_type": "code",
   "execution_count": 79,
   "id": "b201a980",
   "metadata": {},
   "outputs": [],
   "source": [
    "df_st_val_all_unique_similarity_metrics = df_st_val_all_unique[\"similarity_metrics\"].apply(safe_json_loads).apply(pd.Series)\n",
    "df_st_val_all_unique = pd.concat([df_st_val_all_unique, df_st_val_all_unique_similarity_metrics], axis=1)\n",
    "\n",
    "df_st_val_filtered_unique_similarity_metrics = df_st_val_filtered_unique[\"similarity_metrics\"].apply(safe_json_loads).apply(pd.Series)\n",
    "df_st_val_filtered_unique = pd.concat([df_st_val_filtered_unique, df_st_val_filtered_unique_similarity_metrics], axis=1)"
   ]
  },
  {
   "cell_type": "code",
   "execution_count": 80,
   "id": "a6dc4632",
   "metadata": {},
   "outputs": [],
   "source": [
    "# If any of the similarity_metrics columns are lists, extract the first element\n",
    "for col in df_st_val_all_unique_similarity_metrics.columns:\n",
    "    if df_st_val_all_unique_similarity_metrics[col].apply(lambda x: isinstance(x, list)).any():\n",
    "        df_st_val_all_unique_similarity_metrics[col] = df_st_val_all_unique_similarity_metrics[col].apply(lambda x: x[0] if isinstance(x, list) and len(x) > 0 else x)\n",
    "\n",
    "# Update unique_df with the processed columns\n",
    "df_st_val_all_unique = pd.concat([df_st_val_all_unique.drop(columns=df_st_val_all_unique_similarity_metrics.columns, errors='ignore'), df_st_val_all_unique_similarity_metrics], axis=1)\n",
    "\n",
    "# If any of the similarity_metrics columns are lists, extract the first element\n",
    "for col in df_st_val_filtered_unique_similarity_metrics.columns:\n",
    "    if df_st_val_filtered_unique_similarity_metrics[col].apply(lambda x: isinstance(x, list)).any():\n",
    "        df_st_val_filtered_unique_similarity_metrics[col] = df_st_val_filtered_unique_similarity_metrics[col].apply(lambda x: x[0] if isinstance(x, list) and len(x) > 0 else x)\n",
    "\n",
    "# Update unique_df with the processed columns\n",
    "df_st_val_filtered_unique = pd.concat([df_st_val_filtered_unique.drop(columns=df_st_val_filtered_unique_similarity_metrics.columns, errors='ignore'), df_st_val_filtered_unique_similarity_metrics], axis=1)"
   ]
  },
  {
   "cell_type": "code",
   "execution_count": 96,
   "id": "e23d5976",
   "metadata": {},
   "outputs": [
    {
     "name": "stdout",
     "output_type": "stream",
     "text": [
      "squad_id                2067\n",
      "title                   2067\n",
      "context                 2067\n",
      "similarity_metrics      2067\n",
      "colbert                 2067\n",
      "sparse                  2067\n",
      "dense                   2067\n",
      "sparse+dense            2067\n",
      "colbert+sparse+dense    2067\n",
      "dtype: int64\n",
      "squad_id                869\n",
      "title                   869\n",
      "context                 869\n",
      "similarity_metrics      869\n",
      "colbert                 869\n",
      "sparse                  869\n",
      "dense                   869\n",
      "sparse+dense            869\n",
      "colbert+sparse+dense    869\n",
      "dtype: int64\n"
     ]
    }
   ],
   "source": [
    "print(df_st_val_all_unique.count())\n",
    "print(df_st_val_filtered_unique.count())"
   ]
  },
  {
   "cell_type": "code",
   "execution_count": 81,
   "id": "b4cf6c03",
   "metadata": {},
   "outputs": [
    {
     "name": "stdout",
     "output_type": "stream",
     "text": [
      "0.885697421614652 1.2473139806709603 0.9067777311623125\n",
      "0.8982535504636336 1.273408281789413 0.919247046713176\n"
     ]
    }
   ],
   "source": [
    "print(df_st_val_all_unique[\"colbert\"].mean(), df_st_val_all_unique[\"sparse\"].mean(), df_st_val_all_unique[\"dense\"].mean())\n",
    "print(df_st_val_filtered_unique[\"colbert\"].mean(), df_st_val_filtered_unique[\"sparse\"].mean(), df_st_val_filtered_unique[\"dense\"].mean())"
   ]
  },
  {
   "cell_type": "code",
   "execution_count": 82,
   "id": "c5f74552",
   "metadata": {},
   "outputs": [
    {
     "data": {
      "image/png": "[encoded data removed]",
      "text/plain": [
       "<Figure size 640x480 with 1 Axes>"
      ]
     },
     "metadata": {},
     "output_type": "display_data"
    }
   ],
   "source": [
    "plt.bar([\"ColBERT\", \"Sparse\", \"Dense\"], [df_st_val_all_unique[\"colbert\"].mean(), df_st_val_all_unique[\"sparse\"].mean(), df_st_val_all_unique[\"dense\"].mean()])\n",
    "plt.show()"
   ]
  },
  {
   "cell_type": "code",
   "execution_count": 83,
   "id": "41f01ac0",
   "metadata": {},
   "outputs": [
    {
     "data": {
      "image/png": "[encoded data removed]",
      "text/plain": [
       "<Figure size 640x480 with 1 Axes>"
      ]
     },
     "metadata": {},
     "output_type": "display_data"
    }
   ],
   "source": [
    "plt.bar([\"ColBERT\", \"Sparse\", \"Dense\"], [df_st_val_filtered_unique[\"colbert\"].mean(), df_st_val_filtered_unique[\"sparse\"].mean(), df_st_val_filtered_unique[\"dense\"].mean()])\n",
    "plt.show()"
   ]
  },
  {
   "cell_type": "markdown",
   "id": "9d8ada88",
   "metadata": {},
   "source": [
    "## Combined"
   ]
  },
  {
   "cell_type": "code",
   "execution_count": 93,
   "id": "13d883f5",
   "metadata": {},
   "outputs": [],
   "source": [
    "metrics = [\"ColBERT\", \"Dense\", \"Sparse\"]\n",
    "train_all_means = [df_st_all_unique[m.lower()].mean() for m in metrics]\n",
    "train_all_mins = [df_st_all_unique[m.lower()].min() for m in metrics]\n",
    "train_all_maxs = [df_st_all_unique[m.lower()].max() for m in metrics]\n",
    "train_filtered_means = [df_st_filtered_unique[m.lower()].mean() for m in metrics]\n",
    "train_filtered_mins = [df_st_filtered_unique[m.lower()].min() for m in metrics]\n",
    "train_filtered_maxs = [df_st_filtered_unique[m.lower()].max() for m in metrics]\n",
    "val_all_means = [df_st_val_all_unique[m.lower()].mean() for m in metrics]\n",
    "val_all_mins = [df_st_val_all_unique[m.lower()].min() for m in metrics]\n",
    "val_all_maxs = [df_st_val_all_unique[m.lower()].max() for m in metrics]\n",
    "val_filtered_means = [df_st_val_filtered_unique[m.lower()].mean() for m in metrics]\n",
    "val_filtered_mins = [df_st_val_filtered_unique[m.lower()].min() for m in metrics]\n",
    "val_filtered_maxs = [df_st_val_filtered_unique[m.lower()].max() for m in metrics]"
   ]
  },
  {
   "cell_type": "code",
   "execution_count": 1,
   "id": "8244ac4d",
   "metadata": {},
   "outputs": [
    {
     "ename": "NameError",
     "evalue": "name 'np' is not defined",
     "output_type": "error",
     "traceback": [
      "\u001b[31m---------------------------------------------------------------------------\u001b[39m",
      "\u001b[31mNameError\u001b[39m                                 Traceback (most recent call last)",
      "\u001b[36mCell\u001b[39m\u001b[36m \u001b[39m\u001b[32mIn[1]\u001b[39m\u001b[32m, line 3\u001b[39m\n\u001b[32m      1\u001b[39m plot_data = {\n\u001b[32m      2\u001b[39m     \u001b[33m\"\u001b[39m\u001b[33mComplete Train Split\u001b[39m\u001b[33m\"\u001b[39m: {\n\u001b[32m----> \u001b[39m\u001b[32m3\u001b[39m         \u001b[33m\"\u001b[39m\u001b[33mmeans\u001b[39m\u001b[33m\"\u001b[39m: \u001b[43mnp\u001b[49m.array(train_all_means),\n\u001b[32m      4\u001b[39m         \u001b[33m\"\u001b[39m\u001b[33mmins\u001b[39m\u001b[33m\"\u001b[39m: np.array(train_all_mins),\n\u001b[32m      5\u001b[39m         \u001b[33m\"\u001b[39m\u001b[33mmaxs\u001b[39m\u001b[33m\"\u001b[39m: np.array(train_all_maxs)\n\u001b[32m      6\u001b[39m     },\n\u001b[32m      7\u001b[39m     \u001b[33m\"\u001b[39m\u001b[33mComplete Validation Split\u001b[39m\u001b[33m\"\u001b[39m: {\n\u001b[32m      8\u001b[39m         \u001b[33m\"\u001b[39m\u001b[33mmeans\u001b[39m\u001b[33m\"\u001b[39m: np.array(val_all_means),\n\u001b[32m      9\u001b[39m         \u001b[33m\"\u001b[39m\u001b[33mmins\u001b[39m\u001b[33m\"\u001b[39m: np.array(val_all_mins),\n\u001b[32m     10\u001b[39m         \u001b[33m\"\u001b[39m\u001b[33mmaxs\u001b[39m\u001b[33m\"\u001b[39m: np.array(val_all_maxs)\n\u001b[32m     11\u001b[39m     },\n\u001b[32m     12\u001b[39m     \u001b[33m\"\u001b[39m\u001b[33mFiltered Train Split\u001b[39m\u001b[33m\"\u001b[39m: {\n\u001b[32m     13\u001b[39m         \u001b[33m\"\u001b[39m\u001b[33mmeans\u001b[39m\u001b[33m\"\u001b[39m: np.array(train_filtered_means),\n\u001b[32m     14\u001b[39m         \u001b[33m\"\u001b[39m\u001b[33mmins\u001b[39m\u001b[33m\"\u001b[39m: np.array(train_filtered_mins),\n\u001b[32m     15\u001b[39m         \u001b[33m\"\u001b[39m\u001b[33mmaxs\u001b[39m\u001b[33m\"\u001b[39m: np.array(train_filtered_maxs)\n\u001b[32m     16\u001b[39m     },\n\u001b[32m     17\u001b[39m     \u001b[33m\"\u001b[39m\u001b[33mFiltered Validation Split\u001b[39m\u001b[33m\"\u001b[39m: {\n\u001b[32m     18\u001b[39m         \u001b[33m\"\u001b[39m\u001b[33mmeans\u001b[39m\u001b[33m\"\u001b[39m: np.array(val_filtered_means),\n\u001b[32m     19\u001b[39m         \u001b[33m\"\u001b[39m\u001b[33mmins\u001b[39m\u001b[33m\"\u001b[39m: np.array(val_filtered_mins),\n\u001b[32m     20\u001b[39m         \u001b[33m\"\u001b[39m\u001b[33mmaxs\u001b[39m\u001b[33m\"\u001b[39m: np.array(val_filtered_maxs)\n\u001b[32m     21\u001b[39m     }\n\u001b[32m     22\u001b[39m }\n\u001b[32m     25\u001b[39m \u001b[38;5;66;03m# --- 3. Chart Generation ---\u001b[39;00m\n\u001b[32m     26\u001b[39m \u001b[38;5;66;03m# This code creates a 2x2 grid of subplots for the four conditions.\u001b[39;00m\n\u001b[32m     27\u001b[39m \n\u001b[32m     28\u001b[39m \u001b[38;5;66;03m# Create a figure with a 2x2 grid of subplots\u001b[39;00m\n\u001b[32m     29\u001b[39m fig, axs = plt.subplots(\u001b[32m2\u001b[39m, \u001b[32m2\u001b[39m, figsize=(\u001b[32m15\u001b[39m, \u001b[32m12\u001b[39m))\n",
      "\u001b[31mNameError\u001b[39m: name 'np' is not defined"
     ]
    }
   ],
   "source": [
    "plot_data = {\n",
    "    \"Complete Train Split\": {\n",
    "        \"means\": np.array(train_all_means),\n",
    "        \"mins\": np.array(train_all_mins),\n",
    "        \"maxs\": np.array(train_all_maxs)\n",
    "    },\n",
    "    \"Complete Validation Split\": {\n",
    "        \"means\": np.array(val_all_means),\n",
    "        \"mins\": np.array(val_all_mins),\n",
    "        \"maxs\": np.array(val_all_maxs)\n",
    "    },\n",
    "    \"Filtered Train Split\": {\n",
    "        \"means\": np.array(train_filtered_means),\n",
    "        \"mins\": np.array(train_filtered_mins),\n",
    "        \"maxs\": np.array(train_filtered_maxs)\n",
    "    },\n",
    "    \"Filtered Validation Split\": {\n",
    "        \"means\": np.array(val_filtered_means),\n",
    "        \"mins\": np.array(val_filtered_mins),\n",
    "        \"maxs\": np.array(val_filtered_maxs)\n",
    "    }\n",
    "}\n",
    "\n",
    "\n",
    "# --- 3. Chart Generation ---\n",
    "# This code creates a 2x2 grid of subplots for the four conditions.\n",
    "\n",
    "# Create a figure with a 2x2 grid of subplots\n",
    "fig, axs = plt.subplots(2, 2, figsize=(15, 12))\n",
    "# fig.suptitle('Comparison of Mean Similarity Scores Between Unstructured and Structurized Contexts', fontsize=18)\n",
    "\n",
    "# Flatten the axes array to easily iterate over it\n",
    "axs = axs.flatten()\n",
    "\n",
    "# Define colors for the bars\n",
    "colors = ['#1f77b4', '#ff7f0e', '#2ca02c'] # Blue, Orange, Green\n",
    "\n",
    "# Loop through each data condition and create a bar chart on a subplot\n",
    "for i, (title, values) in enumerate(plot_data.items()):\n",
    "    ax = axs[i]\n",
    "    means = values['means']\n",
    "    mins = values['mins']\n",
    "    maxs = values['maxs']\n",
    "\n",
    "    # Calculate the error bar lengths (distance from the mean)\n",
    "    # The 'yerr' parameter needs the lower error and upper error separately.\n",
    "    lower_error = means - mins\n",
    "    upper_error = maxs - means\n",
    "    asymmetric_error = [lower_error, upper_error]\n",
    "\n",
    "    # Create the bar chart with error bars\n",
    "    ax.bar(metrics, means, yerr=asymmetric_error, capsize=5, color=colors, alpha=0.8)\n",
    "\n",
    "    # Set labels, title, and grid for each subplot\n",
    "    ax.set_title(title, fontsize=14, pad=10)\n",
    "    ax.set_ylabel('Mean Similarity Score', fontsize=12)\n",
    "    ax.set_xlabel('Similarity Metric', fontsize=12)\n",
    "    ax.set_ylim(bottom=0)  # Make sure the y-axis starts at 0 for clarity\n",
    "    ax.grid(axis='y', linestyle='--', alpha=0.6)\n",
    "\n",
    "# Adjust the overall layout to prevent titles and labels from overlapping\n",
    "plt.tight_layout(rect=[0, 0.03, 1, 0.95])\n",
    "\n",
    "# Display the final figure\n",
    "plt.show()"
   ]
  },
  {
   "cell_type": "code",
   "execution_count": 86,
   "id": "e9655931",
   "metadata": {},
   "outputs": [],
   "source": [
    "x = np.arange(len(metrics))  # label locations\n",
    "width = 0.35  # width of the bars"
   ]
  },
  {
   "cell_type": "code",
   "execution_count": 99,
   "id": "defedc5e",
   "metadata": {},
   "outputs": [
    {
     "data": {
      "image/png": "[encoded data removed]",
      "text/plain": [
       "<Figure size 640x480 with 1 Axes>"
      ]
     },
     "metadata": {},
     "output_type": "display_data"
    }
   ],
   "source": [
    "fig, ax = plt.subplots()\n",
    "rects1 = ax.bar(x - width/2, train_all_means, width, label='Train')\n",
    "rects2 = ax.bar(x + width/2, val_all_means, width, label='Validation')\n",
    "\n",
    "ax.set_ylabel('Mean Score')\n",
    "ax.set_xticks(x)\n",
    "ax.set_xticklabels(metrics)\n",
    "ax.legend()\n",
    "# plt.title('Mean Similarity Scores for Different Metrics Throughout All Dataset of Unique Contexts')\n",
    "plt.show()"
   ]
  },
  {
   "cell_type": "code",
   "execution_count": 98,
   "id": "08a01dff",
   "metadata": {},
   "outputs": [
    {
     "data": {
      "image/png": "[encoded data removed]",
      "text/plain": [
       "<Figure size 640x480 with 1 Axes>"
      ]
     },
     "metadata": {},
     "output_type": "display_data"
    }
   ],
   "source": [
    "fig, ax = plt.subplots()\n",
    "rects1 = ax.bar(x - width/2, train_filtered_means, width, label='Train')\n",
    "rects2 = ax.bar(x + width/2, val_filtered_means, width, label='Validation')\n",
    "\n",
    "ax.set_ylabel('Mean Score')\n",
    "ax.set_xticks(x)\n",
    "ax.set_xticklabels(metrics)\n",
    "ax.legend()\n",
    "# plt.title('Mean Similarity Scores for Different Metrics Throughout Filtered Dataset of Unique Contexts')\n",
    "plt.show()"
   ]
  },
  {
   "cell_type": "code",
   "execution_count": 100,
   "id": "085a797c",
   "metadata": {},
   "outputs": [
    {
     "data": {
      "image/png": "[encoded data removed]",
      "text/plain": [
       "<Figure size 800x500 with 1 Axes>"
      ]
     },
     "metadata": {},
     "output_type": "display_data"
    }
   ],
   "source": [
    "width = 0.2  # since we have 4 bars per group\n",
    "\n",
    "# Prepare data in shape (num_groups, num_metrics)\n",
    "means_matrix = np.array([\n",
    "    train_all_means,\n",
    "    train_filtered_means,\n",
    "    val_all_means,\n",
    "    val_filtered_means\n",
    "])\n",
    "\n",
    "labels = ['Train All', 'Train Filtered', 'Val All', 'Val Filtered']\n",
    "colors = ['tab:blue', 'tab:cyan', 'tab:orange', 'tab:red']\n",
    "\n",
    "fig, ax = plt.subplots(figsize=(8,5))\n",
    "\n",
    "# Plot each group\n",
    "for i in range(4):\n",
    "    ax.bar(x + (i-1.5)*width, means_matrix[i], width, label=labels[i], color=colors[i])\n",
    "\n",
    "ax.set_ylabel('Mean Score')\n",
    "ax.set_xticks(x)\n",
    "ax.set_xticklabels(metrics)\n",
    "ax.legend()\n",
    "# plt.title('Mean Similarity Scores for Different Metrics (Unique Contexts)')\n",
    "plt.tight_layout()\n",
    "plt.show()"
   ]
  },
  {
   "cell_type": "markdown",
   "id": "b6ce1199",
   "metadata": {},
   "source": [
    "# Tables"
   ]
  },
  {
   "cell_type": "code",
   "execution_count": 90,
   "id": "aa9acd8e",
   "metadata": {},
   "outputs": [],
   "source": [
    "# Table 1: All Data\n",
    "table_all = pd.DataFrame(\n",
    "    [train_all_means, val_all_means],\n",
    "    index=['Train All', 'Val All'],\n",
    "    columns=metrics\n",
    ")"
   ]
  },
  {
   "cell_type": "code",
   "execution_count": 91,
   "id": "a974a280",
   "metadata": {},
   "outputs": [],
   "source": [
    "# Table 2: Filtered Data\n",
    "table_filtered = pd.DataFrame(\n",
    "    [train_filtered_means, val_filtered_means],\n",
    "    index=['Train Filtered', 'Val Filtered'],\n",
    "    columns=metrics\n",
    ")"
   ]
  },
  {
   "cell_type": "code",
   "execution_count": 92,
   "id": "df59ea8b",
   "metadata": {},
   "outputs": [
    {
     "name": "stdout",
     "output_type": "stream",
     "text": [
      "All Data Mean Similarity Scores:\n",
      "            ColBERT     Dense    Sparse\n",
      "Train All  0.875162  0.898173  1.147534\n",
      "Val All    0.885697  0.906778  1.247314\n",
      "\n",
      "Filtered Data Mean Similarity Scores:\n",
      "                 ColBERT     Dense    Sparse\n",
      "Train Filtered  0.876106  0.899128  1.154055\n",
      "Val Filtered    0.898254  0.919247  1.273408\n"
     ]
    }
   ],
   "source": [
    "print(\"All Data Mean Similarity Scores:\")\n",
    "print(table_all)\n",
    "print(\"\\nFiltered Data Mean Similarity Scores:\")\n",
    "print(table_filtered)"
   ]
  },
  {
   "cell_type": "code",
   "execution_count": 94,
   "id": "8c72a364",
   "metadata": {},
   "outputs": [
    {
     "name": "stdout",
     "output_type": "stream",
     "text": [
      "                 ColBERT                         Dense                      \\\n",
      "                     Min      Mean       Max       Min      Mean       Max   \n",
      "Train All       0.337644  0.875162  0.959358  0.271240  0.898173  0.975098   \n",
      "Val All         0.557814  0.885697  0.951385  0.548828  0.906778  0.970215   \n",
      "Train Filtered  0.423769  0.876106  0.959358  0.492188  0.899128  0.975098   \n",
      "Val Filtered    0.557814  0.898254  0.951385  0.548828  0.919247  0.970215   \n",
      "\n",
      "                  Sparse                      \n",
      "                     Min      Mean       Max  \n",
      "Train All       0.001836  1.147534  3.894531  \n",
      "Val All         0.165283  1.247314  3.523438  \n",
      "Train Filtered  0.158569  1.154055  3.894531  \n",
      "Val Filtered    0.165283  1.273408  3.523438  \n"
     ]
    }
   ],
   "source": [
    "index = ['Train All', 'Val All', 'Train Filtered', 'Val Filtered']\n",
    "\n",
    "# Each entry: [min, mean, max] for each metric\n",
    "data = [\n",
    "    [train_all_mins[0], train_all_means[0], train_all_maxs[0], train_all_mins[1], train_all_means[1], train_all_maxs[1], train_all_mins[2], train_all_means[2], train_all_maxs[2]],\n",
    "    [val_all_mins[0], val_all_means[0], val_all_maxs[0], val_all_mins[1], val_all_means[1], val_all_maxs[1], val_all_mins[2], val_all_means[2], val_all_maxs[2]],\n",
    "    [train_filtered_mins[0], train_filtered_means[0], train_filtered_maxs[0], train_filtered_mins[1], train_filtered_means[1], train_filtered_maxs[1], train_filtered_mins[2], train_filtered_means[2], train_filtered_maxs[2]],\n",
    "    [val_filtered_mins[0], val_filtered_means[0], val_filtered_maxs[0], val_filtered_mins[1], val_filtered_means[1], val_filtered_maxs[1], val_filtered_mins[2], val_filtered_means[2], val_filtered_maxs[2]]\n",
    "]\n",
    "\n",
    "columns = pd.MultiIndex.from_product(\n",
    "    [metrics, ['Min', 'Mean', 'Max']]\n",
    ")\n",
    "\n",
    "table = pd.DataFrame(data, columns=columns, index=index)\n",
    "print(table)"
   ]
  },
  {
   "cell_type": "code",
   "execution_count": 97,
   "id": "881f4bfb",
   "metadata": {},
   "outputs": [
    {
     "data": {
      "text/html": [
       "<div>\n",
       "<style scoped>\n",
       "    .dataframe tbody tr th:only-of-type {\n",
       "        vertical-align: middle;\n",
       "    }\n",
       "\n",
       "    .dataframe tbody tr th {\n",
       "        vertical-align: top;\n",
       "    }\n",
       "\n",
       "    .dataframe thead tr th {\n",
       "        text-align: left;\n",
       "    }\n",
       "</style>\n",
       "<table border=\"1\" class=\"dataframe\">\n",
       "  <thead>\n",
       "    <tr>\n",
       "      <th></th>\n",
       "      <th colspan=\"3\" halign=\"left\">ColBERT</th>\n",
       "      <th colspan=\"3\" halign=\"left\">Dense</th>\n",
       "      <th colspan=\"3\" halign=\"left\">Sparse</th>\n",
       "    </tr>\n",
       "    <tr>\n",
       "      <th></th>\n",
       "      <th>Min</th>\n",
       "      <th>Mean</th>\n",
       "      <th>Max</th>\n",
       "      <th>Min</th>\n",
       "      <th>Mean</th>\n",
       "      <th>Max</th>\n",
       "      <th>Min</th>\n",
       "      <th>Mean</th>\n",
       "      <th>Max</th>\n",
       "    </tr>\n",
       "  </thead>\n",
       "  <tbody>\n",
       "    <tr>\n",
       "      <th>Train All</th>\n",
       "      <td>0.337644</td>\n",
       "      <td>0.875162</td>\n",
       "      <td>0.959358</td>\n",
       "      <td>0.271240</td>\n",
       "      <td>0.898173</td>\n",
       "      <td>0.975098</td>\n",
       "      <td>0.001836</td>\n",
       "      <td>1.147534</td>\n",
       "      <td>3.894531</td>\n",
       "    </tr>\n",
       "    <tr>\n",
       "      <th>Val All</th>\n",
       "      <td>0.557814</td>\n",
       "      <td>0.885697</td>\n",
       "      <td>0.951385</td>\n",
       "      <td>0.548828</td>\n",
       "      <td>0.906778</td>\n",
       "      <td>0.970215</td>\n",
       "      <td>0.165283</td>\n",
       "      <td>1.247314</td>\n",
       "      <td>3.523438</td>\n",
       "    </tr>\n",
       "    <tr>\n",
       "      <th>Train Filtered</th>\n",
       "      <td>0.423769</td>\n",
       "      <td>0.876106</td>\n",
       "      <td>0.959358</td>\n",
       "      <td>0.492188</td>\n",
       "      <td>0.899128</td>\n",
       "      <td>0.975098</td>\n",
       "      <td>0.158569</td>\n",
       "      <td>1.154055</td>\n",
       "      <td>3.894531</td>\n",
       "    </tr>\n",
       "    <tr>\n",
       "      <th>Val Filtered</th>\n",
       "      <td>0.557814</td>\n",
       "      <td>0.898254</td>\n",
       "      <td>0.951385</td>\n",
       "      <td>0.548828</td>\n",
       "      <td>0.919247</td>\n",
       "      <td>0.970215</td>\n",
       "      <td>0.165283</td>\n",
       "      <td>1.273408</td>\n",
       "      <td>3.523438</td>\n",
       "    </tr>\n",
       "  </tbody>\n",
       "</table>\n",
       "</div>"
      ],
      "text/plain": [
       "                 ColBERT                         Dense                      \\\n",
       "                     Min      Mean       Max       Min      Mean       Max   \n",
       "Train All       0.337644  0.875162  0.959358  0.271240  0.898173  0.975098   \n",
       "Val All         0.557814  0.885697  0.951385  0.548828  0.906778  0.970215   \n",
       "Train Filtered  0.423769  0.876106  0.959358  0.492188  0.899128  0.975098   \n",
       "Val Filtered    0.557814  0.898254  0.951385  0.548828  0.919247  0.970215   \n",
       "\n",
       "                  Sparse                      \n",
       "                     Min      Mean       Max  \n",
       "Train All       0.001836  1.147534  3.894531  \n",
       "Val All         0.165283  1.247314  3.523438  \n",
       "Train Filtered  0.158569  1.154055  3.894531  \n",
       "Val Filtered    0.165283  1.273408  3.523438  "
      ]
     },
     "execution_count": 97,
     "metadata": {},
     "output_type": "execute_result"
    }
   ],
   "source": [
    "table"
   ]
  }
 ],
 "metadata": {
  "kernelspec": {
   "display_name": "Python 3",
   "language": "python",
   "name": "python3"
  },
  "language_info": {
   "codemirror_mode": {
    "name": "ipython",
    "version": 3
   },
   "file_extension": ".py",
   "mimetype": "text/x-python",
   "name": "python",
   "nbconvert_exporter": "python",
   "pygments_lexer": "ipython3",
   "version": "3.12.10"
  }
 },
 "nbformat": 4,
 "nbformat_minor": 5
}
